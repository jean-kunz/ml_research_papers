{
 "cells": [
  {
   "cell_type": "markdown",
   "metadata": {},
   "source": [
    "Effective Use of Word Order for Text Categorization with Convolutional Neural Networks\n",
    " \n",
    "https://arxiv.org/abs/1412.1058\n",
    "\n",
    "\n",
    "WORK IN PROGRESS !!!"
   ]
  },
  {
   "cell_type": "code",
   "execution_count": null,
   "metadata": {},
   "outputs": [],
   "source": []
  },
  {
   "cell_type": "code",
   "execution_count": 1,
   "metadata": {},
   "outputs": [],
   "source": [
    "import tarfile,os,sys, re\n",
    "is_eager_exec_init=False\n",
    "import psutil"
   ]
  },
  {
   "cell_type": "code",
   "execution_count": 2,
   "metadata": {},
   "outputs": [],
   "source": [
    "import numpy as np\n",
    "import tensorflow as tf\n",
    "#if not is_eager_exec_init:\n",
    "#    tf.enable_eager_execution()\n",
    "#    is_eager_exec_init=True\n",
    "\n",
    "import tensorflow.contrib.eager as tfe\n",
    "import pickle\n",
    "import sklearn\n",
    "\n",
    "# Use spacy to remove stop words first\n",
    "import spacy\n",
    "nlp = spacy.load('en')"
   ]
  },
  {
   "cell_type": "code",
   "execution_count": 3,
   "metadata": {},
   "outputs": [
    {
     "name": "stdout",
     "output_type": "stream",
     "text": [
      "peak memory: 454.88 MiB, increment: 0.03 MiB\n"
     ]
    }
   ],
   "source": [
    "%load_ext memory_profiler\n",
    "%memit"
   ]
  },
  {
   "cell_type": "raw",
   "metadata": {},
   "source": [
    "psutil.virtual_memory()"
   ]
  },
  {
   "cell_type": "code",
   "execution_count": 4,
   "metadata": {},
   "outputs": [],
   "source": [
    "is_data_already_prepared = False\n",
    "do_prepare_data=False\n",
    "do_load_prepared_data = True"
   ]
  },
  {
   "cell_type": "code",
   "execution_count": 5,
   "metadata": {},
   "outputs": [
    {
     "name": "stdout",
     "output_type": "stream",
     "text": [
      "/datasets/aclImdb_v1.tar.gz\n"
     ]
    }
   ],
   "source": [
    "!ls /datasets/aclImdb_v1.tar.gz\n"
   ]
  },
  {
   "cell_type": "code",
   "execution_count": 6,
   "metadata": {},
   "outputs": [],
   "source": [
    "if not is_data_already_prepared:\n",
    "    test_neg_files = []\n",
    "    test_pos_files = []\n",
    "    train_neg_files = []\n",
    "    train_pos_files = []\n",
    "\n",
    "    with tarfile.open('/datasets/aclImdb_v1.tar.gz') as tar:\n",
    "        for mbr in tar.getmembers():\n",
    "            matches = re.findall('/test/neg/.*\\.txt',mbr.name)\n",
    "            if len(matches)==1:\n",
    "                f=tar.extractfile(mbr)\n",
    "                content=f.read()        \n",
    "                test_neg_files.append((mbr,content))\n",
    "            matches = re.findall('/test/pos/.*\\.txt',mbr.name)\n",
    "            if len(matches)==1:\n",
    "                f=tar.extractfile(mbr)\n",
    "                content=f.read()  \n",
    "                test_pos_files.append((mbr, content))\n",
    "            matches = re.findall('/train/neg/.*\\.txt',mbr.name)\n",
    "            if len(matches)==1:\n",
    "                f=tar.extractfile(mbr)\n",
    "                content=f.read()        \n",
    "                train_neg_files.append((mbr,content))\n",
    "            matches = re.findall('/train/pos/.*\\.txt',mbr.name)\n",
    "            if len(matches)==1:\n",
    "                f=tar.extractfile(mbr)\n",
    "                content=f.read()  \n",
    "                train_pos_files.append((mbr, content))\n"
   ]
  },
  {
   "cell_type": "code",
   "execution_count": 7,
   "metadata": {},
   "outputs": [],
   "source": [
    "if not is_data_already_prepared:\n",
    "    train_neg = [txt.decode(\"utf-8\")  for file,txt in train_neg_files]\n",
    "    train_pos = [txt.decode(\"utf-8\")  for file,txt in train_pos_files]\n",
    "\n",
    "    test_neg = [txt.decode(\"utf-8\")  for file,txt in test_neg_files]\n",
    "    test_pos = [txt.decode(\"utf-8\")  for file,txt in test_pos_files]"
   ]
  },
  {
   "cell_type": "raw",
   "metadata": {},
   "source": [
    "%memit\n",
    "psutil.virtual_memory()"
   ]
  },
  {
   "cell_type": "code",
   "execution_count": null,
   "metadata": {},
   "outputs": [],
   "source": []
  },
  {
   "cell_type": "code",
   "execution_count": 8,
   "metadata": {},
   "outputs": [],
   "source": [
    "vocab_nb = 10000\n",
    "\n",
    "def clean_docs(docs):\n",
    "    # clean docs by:\n",
    "    # - removing stop words\n",
    "    docs_wtho_stop = []\n",
    "    for raw_doc in docs:\n",
    "        doc = nlp(raw_doc)\n",
    "        doc_wtho_stop = \"\"\n",
    "        for tok in doc:\n",
    "            if not tok.is_stop:\n",
    "                doc_wtho_stop = doc_wtho_stop +tok.text+ \" \"\n",
    "        docs_wtho_stop.append(doc_wtho_stop)\n",
    "    return docs_wtho_stop"
   ]
  },
  {
   "cell_type": "code",
   "execution_count": 9,
   "metadata": {},
   "outputs": [],
   "source": [
    "from tensorflow.python.keras.preprocessing.text import Tokenizer, one_hot\n",
    "from tensorflow.python.keras.backend import one_hot, get_session, set_session\n",
    "from tensorflow.python.keras.models import Sequential\n",
    "from tensorflow.python.keras.layers import Dense, Conv1D,MaxPool1D, Activation, Flatten\n",
    "from tensorflow.python.keras.callbacks import TensorBoard, EarlyStopping\n",
    "from tensorflow.python.keras.regularizers import l2, l1\n",
    "from tensorflow.python.keras.utils import to_categorical"
   ]
  },
  {
   "cell_type": "code",
   "execution_count": 10,
   "metadata": {},
   "outputs": [],
   "source": [
    "def docs_to_sequences(docs, vocab_nb=10000, max_length=None):\n",
    "    # create the tokenizer\n",
    "    t = Tokenizer(num_words=vocab_nb)\n",
    "    # fit the tokenizer on the documents\n",
    "    t.fit_on_texts(docs)\n",
    "    # create each doc as a list of integer indices\n",
    "    docs_seq_int = t.texts_to_sequences(docs)\n",
    "    #print(docs_seq_int)\n",
    "    \n",
    "    \n",
    "    doc_nb = len(docs_seq_int)\n",
    "    if max_length==None:\n",
    "        max_length = len(sorted(docs_seq_int,key=len, reverse=True)[0])\n",
    "        print(\"max_lenght computed:\",max_length)\n",
    "    #print(\"max_length:\",max_length)\n",
    "    \n",
    "    # Create a dense array of shape (doc_nb,max_length). \n",
    "    # Each cell contains a int (the indice of word)\n",
    "    \n",
    "    docs_seq_dense = []\n",
    "    docs_seq_array = np.zeros((doc_nb,max_length),dtype=np.int16)\n",
    "    #print(docs_seq_array)\n",
    "    for idx, seq_int in enumerate(docs_seq_int):\n",
    "        padded_seq_int = seq_int+[0]*(max_length-len(seq_int))\n",
    "        doc_array = np.array(padded_seq_int, dtype=np.int16)\n",
    "        docs_seq_array[idx]=doc_array[:max_length]\n",
    "\n",
    "    return docs_seq_array\n",
    "    "
   ]
  },
  {
   "cell_type": "markdown",
   "metadata": {},
   "source": [
    "## Toy Test data preparation\n",
    "\n",
    "Data preparation logic is tested on a very small toy data set.\n"
   ]
  },
  {
   "cell_type": "code",
   "execution_count": 11,
   "metadata": {},
   "outputs": [
    {
     "name": "stdout",
     "output_type": "stream",
     "text": [
      "['Well ! ', 'Good work , good effort ', 'Great effort guys ', 'nice work friend ', 'Excellent job friend ! ', 'What poor job ! ! ', 'This shame ', 'You poor guy ', 'Fantastic effort friend brother , hell great job I like ', 'I like friend ', 'You worked bad poor guy ']\n",
      "[[12  0  0  0  0  0  0  0]\n",
      " [ 5  6  5  2  0  0  0  0]\n",
      " [ 7  2 13  0  0  0  0  0]\n",
      " [14  6  1  0  0  0  0  0]\n",
      " [ 3  1  0  0  0  0  0  0]\n",
      " [ 4  3  0  0  0  0  0  0]\n",
      " [ 0  0  0  0  0  0  0  0]\n",
      " [ 8  4  9  0  0  0  0  0]\n",
      " [ 2  1  7  3 10 11  0  0]\n",
      " [10 11  1  0  0  0  0  0]\n",
      " [ 8  4  9  0  0  0  0  0]]\n",
      "<class 'numpy.ndarray'>\n",
      "[[12  0  0  0  0  0  0  0]\n",
      " [ 5  6  5  2  0  0  0  0]\n",
      " [ 7  2 13  0  0  0  0  0]\n",
      " [14  6  1  0  0  0  0  0]\n",
      " [ 3  1  0  0  0  0  0  0]\n",
      " [ 4  3  0  0  0  0  0  0]\n",
      " [ 0  0  0  0  0  0  0  0]\n",
      " [ 8  4  9  0  0  0  0  0]\n",
      " [ 2  1  7  3 10 11  0  0]\n",
      " [10 11  1  0  0  0  0  0]\n",
      " [ 8  4  9  0  0  0  0  0]]\n"
     ]
    }
   ],
   "source": [
    "do_toy_test=True\n",
    "\n",
    "if do_toy_test:\n",
    "    toy_vocab_nb = 15\n",
    "    toy_max_sent_len = 8\n",
    "    docs = ['Well done!',\n",
    "            'Good work, good effort',\n",
    "            'Great effort guys',\n",
    "            'nice work my friend',\n",
    "            'Excellent job my friend!',\n",
    "            'What a poor job !! ',\n",
    "            'This is a shame',\n",
    "            'You are a poor guy',\n",
    "            'Fantastic effort my friend and brother, hell of a great job for ever I like it',\n",
    "            'I like you so much my friend',\n",
    "            'You worked so bad poor guy']\n",
    "    cleaned_docs = clean_docs(docs)\n",
    "    print(cleaned_docs)\n",
    "    \n",
    "    doc_sequences = docs_to_sequences(cleaned_docs, max_length=toy_max_sent_len, vocab_nb=toy_vocab_nb)\n",
    "    print(doc_sequences)\n",
    "    print(type(doc_sequences))\n",
    "    np.save(\"./tst\",doc_sequences)\n",
    "    tmp_array = np.load(\"./tst.npy\")\n",
    "    print(tmp_array)\n",
    "    \n",
    "    labels=[1,1,0,1,1,0,0,0,1,0,1]\n",
    "#%memit"
   ]
  },
  {
   "cell_type": "code",
   "execution_count": 12,
   "metadata": {},
   "outputs": [],
   "source": [
    "def categorical_generator(X, y, batch_size=64,vocab_nb=10000):\n",
    "    # Must be able to iterate many times on the same X/y , for instance while training with many epochs.\n",
    "    i=0\n",
    "    while True:\n",
    "        #print(i)\n",
    "        #print(i)\n",
    "        if i >= len(X):\n",
    "            i=0\n",
    "        tmp_X = X[i:batch_size+i]\n",
    "        #print(tmp_X)\n",
    "        batch_X= to_categorical(tmp_X,num_classes=vocab_nb)\n",
    "        batch_y = y[i:batch_size+i]\n",
    "        #print(\"cat gen: \", len(batch_X), len(batch_y))\n",
    "        yield batch_X, batch_y\n",
    "        i+=batch_size\n",
    "    \n",
    "        "
   ]
  },
  {
   "cell_type": "code",
   "execution_count": 13,
   "metadata": {},
   "outputs": [],
   "source": [
    "if do_toy_test:\n",
    "    #print(doc_sequences,labels)\n",
    "    toy_batch_size=2\n",
    "    nb_iter=doc_sequences.shape[0] // toy_batch_size\n",
    "    j=0\n",
    "    nb_epoch=0\n",
    "    for batch_x, batch_y in categorical_generator(doc_sequences,labels,batch_size=toy_batch_size,vocab_nb=toy_vocab_nb):\n",
    "        #print(type(batch_x),batch_x.shape)\n",
    "        #print(batch_y)\n",
    "        assert (len(batch_x)<=toy_batch_size) & (len(batch_y) <=toy_batch_size)\n",
    "        #print(nb_epoch,j,nb_iter)\n",
    "        if j > nb_iter:\n",
    "            j=0\n",
    "            nb_epoch+=1\n",
    " #       if batch_x.shape[0]<test_batch_size:\n",
    " #           nb_epoch+=1\n",
    "        if nb_epoch ==3:\n",
    "            break\n",
    "        \n",
    "        j+=1\n",
    "\n"
   ]
  },
  {
   "cell_type": "code",
   "execution_count": null,
   "metadata": {},
   "outputs": [],
   "source": []
  },
  {
   "cell_type": "code",
   "execution_count": 14,
   "metadata": {},
   "outputs": [
    {
     "name": "stdout",
     "output_type": "stream",
     "text": [
      "WARNING:tensorflow:From /usr/local/lib/python3.5/dist-packages/tensorflow/python/keras/initializers.py:104: calling VarianceScaling.__init__ (from tensorflow.python.ops.init_ops) with distribution=normal is deprecated and will be removed in a future version.\n",
      "Instructions for updating:\n",
      "`normal` is a deprecated alias for `truncated_normal`\n",
      "nb steps per epoch 3.6666666666666665\n",
      "Epoch 1/10\n",
      " - 3s - loss: 0.6831 - acc: 0.7500 - val_loss: 0.7148 - val_acc: 0.5000\n",
      "Epoch 2/10\n",
      " - 0s - loss: 0.6926 - acc: 0.6667 - val_loss: 0.7149 - val_acc: 0.5000\n",
      "Epoch 3/10\n",
      " - 0s - loss: 0.6904 - acc: 0.5833 - val_loss: 0.7152 - val_acc: 0.5000\n",
      "Epoch 4/10\n",
      " - 0s - loss: 0.6767 - acc: 0.7500 - val_loss: 0.7152 - val_acc: 0.5000\n",
      "Epoch 5/10\n",
      " - 0s - loss: 0.6881 - acc: 0.6667 - val_loss: 0.7153 - val_acc: 0.5000\n",
      "Epoch 6/10\n",
      " - 0s - loss: 0.6861 - acc: 0.5833 - val_loss: 0.7156 - val_acc: 0.5000\n",
      "Epoch 7/10\n",
      " - 0s - loss: 0.6719 - acc: 0.7500 - val_loss: 0.7157 - val_acc: 0.5000\n",
      "Epoch 8/10\n",
      " - 0s - loss: 0.6843 - acc: 0.6667 - val_loss: 0.7160 - val_acc: 0.5000\n",
      "Epoch 9/10\n",
      " - 0s - loss: 0.6821 - acc: 0.5833 - val_loss: 0.7163 - val_acc: 0.5000\n",
      "Epoch 10/10\n",
      " - 0s - loss: 0.6674 - acc: 0.7500 - val_loss: 0.7165 - val_acc: 0.5000\n",
      "_________________________________________________________________\n",
      "Layer (type)                 Output Shape              Param #   \n",
      "=================================================================\n",
      "conv1d (Conv1D)              (None, 7, 1)              31        \n",
      "_________________________________________________________________\n",
      "max_pooling1d (MaxPooling1D) (None, 3, 1)              0         \n",
      "_________________________________________________________________\n",
      "flatten (Flatten)            (None, 3)                 0         \n",
      "_________________________________________________________________\n",
      "dense (Dense)                (None, 1)                 4         \n",
      "=================================================================\n",
      "Total params: 35\n",
      "Trainable params: 35\n",
      "Non-trainable params: 0\n",
      "_________________________________________________________________\n"
     ]
    }
   ],
   "source": [
    "do_toy_test=True\n",
    "if do_toy_test:\n",
    "    #sess = get_session()\n",
    "    #docs_as_one_hot=sess.run(docs_as_one_hot_tensor)\n",
    "    #docs_as_one_hot=to_categorical(doc_sequences)\n",
    "    # try with tf_data\n",
    "    #print(doc_as_one_hot)\n",
    "    toy_batch_size=3\n",
    "    toy_model = Sequential([\n",
    "        Conv1D(1, 2, strides=1, activation='relu', kernel_initializer='he_normal', bias_initializer='zeros',input_shape=(toy_max_sent_len,toy_vocab_nb), kernel_regularizer=l2(0.01)),\n",
    "        MaxPool1D(pool_size=2),\n",
    "        Flatten(),\n",
    "        Dense(1, kernel_initializer='he_normal', bias_initializer='zeros', activation='sigmoid')\n",
    "    ])\n",
    "    toy_model.compile(optimizer='rmsprop',\n",
    "              loss='binary_crossentropy',\n",
    "              metrics=['accuracy'])\n",
    "    tb_cb = TensorBoard(log_dir='./logs-test', histogram_freq=0, batch_size=4, \n",
    "                write_graph=True, write_grads=True, )\n",
    "    \n",
    "    test_steps_per_epoch=len(doc_sequences)/toy_batch_size\n",
    "    print(\"nb steps per epoch\", test_steps_per_epoch)\n",
    "    train_cat_gen = categorical_generator(doc_sequences[:-2],labels[:-2],batch_size=toy_batch_size,vocab_nb=toy_vocab_nb)\n",
    "    xval_cat_gen = categorical_generator(doc_sequences[-2:],labels[-2:],batch_size=toy_batch_size,vocab_nb=toy_vocab_nb)\n",
    "    toy_history = toy_model.fit_generator(train_cat_gen, steps_per_epoch=test_steps_per_epoch,epochs=10, validation_data=xval_cat_gen,validation_steps=1 ,verbose=2, callbacks=[tb_cb])\n",
    "    \n",
    "    toy_model.summary()\n",
    "    toy_model.save('./toy_model_v1')\n",
    "    \n",
    "#%memit\n",
    "#psutil.virtual_memory()"
   ]
  },
  {
   "cell_type": "code",
   "execution_count": null,
   "metadata": {},
   "outputs": [],
   "source": []
  },
  {
   "cell_type": "code",
   "execution_count": null,
   "metadata": {},
   "outputs": [],
   "source": []
  },
  {
   "cell_type": "code",
   "execution_count": 15,
   "metadata": {},
   "outputs": [
    {
     "name": "stdout",
     "output_type": "stream",
     "text": [
      "False\n"
     ]
    }
   ],
   "source": [
    "print(is_data_already_prepared)\n",
    "is_data_already_prepared=True\n",
    "max_sent_len = 1000\n",
    "if not is_data_already_prepared:\n",
    "    \n",
    "    cleaned_train_neg = clean_docs(train_neg)\n",
    "    seq_train_neg = docs_to_sequences(cleaned_train_neg, max_length=max_sent_len)    \n",
    "    cleaned_train_pos = clean_docs(train_pos)\n",
    "    seq_train_pos = docs_to_sequences(cleaned_train_pos, max_length=max_sent_len)\n",
    "    np.save('./seq_train_neg',seq_train_neg)\n",
    "    np.save('./seq_train_pos',seq_train_pos)\n",
    "    \n",
    "    cleaned_test_neg = clean_docs(test_neg)\n",
    "    seq_test_neg = docs_to_sequences(cleaned_test_neg,max_length=max_sent_len)\n",
    "    cleaned_test_pos = clean_docs(test_pos)\n",
    "    seq_test_pos = docs_to_sequences(cleaned_test_pos, max_length=max_sent_len)\n",
    "    np.save('./seq_test_neg',seq_test_neg)\n",
    "    np.save('./seq_test_pos',seq_test_pos)\n"
   ]
  },
  {
   "cell_type": "raw",
   "metadata": {},
   "source": [
    "len(cleaned_train_pos)\n",
    "# return array of list only if max_length is set.\n",
    "tmp_pos_no_len = docs_to_sequences(cleaned_test_pos,max_length=1000, vocab_nb=vocab_nb)\n",
    "#tmp_pos_no_len = docs_to_sequences(cleaned_test_pos)\n",
    "\n",
    "tmp_neg = docs_to_sequences(cleaned_train_neg[:10],max_length=max_len)\n",
    "tmp_pos = docs_to_sequences(cleaned_train_pos[:10],max_length=max_len)"
   ]
  },
  {
   "cell_type": "code",
   "execution_count": 16,
   "metadata": {},
   "outputs": [
    {
     "name": "stdout",
     "output_type": "stream",
     "text": [
      "prepared seq loaded\n"
     ]
    }
   ],
   "source": [
    "is_data_already_prepared=True\n",
    "if is_data_already_prepared:\n",
    "    seq_test_neg = np.load('./seq_test_neg.npy')\n",
    "    seq_test_pos = np.load('./seq_test_pos.npy')\n",
    "    seq_train_neg = np.load('./seq_train_neg.npy')\n",
    "    seq_train_pos = np.load('./seq_train_pos.npy')\n",
    "    print(\"prepared seq loaded\")"
   ]
  },
  {
   "cell_type": "code",
   "execution_count": 17,
   "metadata": {},
   "outputs": [
    {
     "data": {
      "text/plain": [
       "((12500, 1000), (12500, 1000), (12500, 1000), (12500, 1000))"
      ]
     },
     "execution_count": 17,
     "metadata": {},
     "output_type": "execute_result"
    }
   ],
   "source": [
    "#np.array(seq_train_neg)\n",
    "seq_train_neg[:].shape, seq_train_pos[:].shape,seq_test_neg.shape, seq_test_pos.shape"
   ]
  },
  {
   "cell_type": "code",
   "execution_count": null,
   "metadata": {},
   "outputs": [],
   "source": []
  },
  {
   "cell_type": "code",
   "execution_count": 18,
   "metadata": {},
   "outputs": [],
   "source": [
    "seq_train_neg.shape, type(seq_test_neg)\n",
    "train_pos = np.ones((seq_train_neg.shape[0]))\n",
    "train_neg = np.zeros((seq_train_neg.shape[0]))\n",
    "\n",
    "test_pos = np.ones((seq_test_neg.shape[0]))\n",
    "test_neg = np.zeros((seq_test_neg.shape[0]))"
   ]
  },
  {
   "cell_type": "code",
   "execution_count": null,
   "metadata": {},
   "outputs": [],
   "source": []
  },
  {
   "cell_type": "code",
   "execution_count": 19,
   "metadata": {},
   "outputs": [
    {
     "data": {
      "text/plain": [
       "((12500, 1000), (25000, 1000), (25000, 1000), (25000,), (25000,))"
      ]
     },
     "execution_count": 19,
     "metadata": {},
     "output_type": "execute_result"
    }
   ],
   "source": [
    "#seq_train = seq_train_neg + seq_train_pos\n",
    "seq_train = np.append(seq_train_neg,seq_train_pos,axis=0)\n",
    "seq_test = np.append(seq_test_neg,seq_test_pos,axis=0)\n",
    "train_label = np.append(train_neg,train_pos,axis=0)\n",
    "test_label = np.append(test_neg,test_pos,axis=0)\n",
    "assert np.any(train_label[:12500]==0)\n",
    "assert np.any(train_label[12500:]==1.)\n",
    "assert np.any(test_label[:12500]==0)\n",
    "assert np.any(test_label[12500:]==1.)\n",
    "seq_train_neg.shape, seq_train.shape,seq_test.shape,train_label.shape, test_label.shape"
   ]
  },
  {
   "cell_type": "code",
   "execution_count": 20,
   "metadata": {},
   "outputs": [],
   "source": [
    "import sklearn.model_selection"
   ]
  },
  {
   "cell_type": "code",
   "execution_count": 21,
   "metadata": {},
   "outputs": [
    {
     "data": {
      "text/plain": [
       "((20000, 1000), (5000, 1000), (20000,), (5000,))"
      ]
     },
     "execution_count": 21,
     "metadata": {},
     "output_type": "execute_result"
    }
   ],
   "source": [
    "xval_rate=0.2\n",
    "X_train, X_xval, y_train, y_xval = sklearn.model_selection.train_test_split(seq_train,train_label, test_size=0.2)\n",
    "assert X_train.shape==(seq_train.shape[0] * (1-xval_rate),seq_train.shape[1])\n",
    "X_train.shape,X_xval.shape, y_train.shape, y_xval.shape\n"
   ]
  },
  {
   "cell_type": "code",
   "execution_count": null,
   "metadata": {},
   "outputs": [],
   "source": []
  },
  {
   "cell_type": "code",
   "execution_count": 39,
   "metadata": {},
   "outputs": [
    {
     "name": "stdout",
     "output_type": "stream",
     "text": [
      "_________________________________________________________________\n",
      "Layer (type)                 Output Shape              Param #   \n",
      "=================================================================\n",
      "conv1d_4 (Conv1D)            (None, 999, 1)            20001     \n",
      "_________________________________________________________________\n",
      "max_pooling1d_4 (MaxPooling1 (None, 499, 1)            0         \n",
      "_________________________________________________________________\n",
      "flatten_4 (Flatten)          (None, 499)               0         \n",
      "_________________________________________________________________\n",
      "dense_4 (Dense)              (None, 1)                 500       \n",
      "=================================================================\n",
      "Total params: 20,501\n",
      "Trainable params: 20,501\n",
      "Non-trainable params: 0\n",
      "_________________________________________________________________\n",
      "nb steps per epoch 625\n",
      "Epoch 1/10\n",
      "625/625 [==============================] - 618s 989ms/step - loss: 0.6888 - acc: 0.5644 - val_loss: 0.6850 - val_acc: 0.5312\n",
      "Epoch 2/10\n",
      "625/625 [==============================] - 617s 988ms/step - loss: 0.6651 - acc: 0.6616 - val_loss: 0.6540 - val_acc: 0.6875\n",
      "Epoch 3/10\n",
      "625/625 [==============================] - 617s 988ms/step - loss: 0.6391 - acc: 0.6908 - val_loss: 0.6263 - val_acc: 0.6562\n",
      "Epoch 4/10\n",
      "625/625 [==============================] - 618s 989ms/step - loss: 0.6191 - acc: 0.7076 - val_loss: 0.6029 - val_acc: 0.7500\n",
      "Epoch 5/10\n",
      "625/625 [==============================] - 619s 990ms/step - loss: 0.6044 - acc: 0.7191 - val_loss: 0.6107 - val_acc: 0.6875\n",
      "Epoch 6/10\n",
      "625/625 [==============================] - 619s 990ms/step - loss: 0.5932 - acc: 0.7288 - val_loss: 0.5324 - val_acc: 0.7500\n",
      "Epoch 7/10\n",
      "625/625 [==============================] - 619s 990ms/step - loss: 0.5840 - acc: 0.7355 - val_loss: 0.5231 - val_acc: 0.9062\n",
      "Epoch 8/10\n",
      "625/625 [==============================] - 620s 991ms/step - loss: 0.5761 - acc: 0.7429 - val_loss: 0.6566 - val_acc: 0.6562\n",
      "Epoch 9/10\n",
      "625/625 [==============================] - 619s 991ms/step - loss: 0.5691 - acc: 0.7468 - val_loss: 0.5410 - val_acc: 0.8125\n",
      "Epoch 10/10\n",
      "625/625 [==============================] - 620s 992ms/step - loss: 0.5630 - acc: 0.7509 - val_loss: 0.5185 - val_acc: 0.9062\n"
     ]
    }
   ],
   "source": [
    "do_train=True\n",
    "if do_train:\n",
    "\n",
    "    batch_size=32\n",
    "    model = Sequential([\n",
    "        Conv1D(1, 2, strides=1, activation='relu', kernel_initializer='he_normal', bias_initializer='zeros',input_shape=(max_sent_len,vocab_nb), kernel_regularizer=l2(0.01)),\n",
    "        MaxPool1D(pool_size=2),\n",
    "        Flatten(),\n",
    "        Dense(1, kernel_initializer='he_normal', bias_initializer='zeros',activation='sigmoid')\n",
    "    ])\n",
    "    model.compile(optimizer='rmsprop',\n",
    "              loss='binary_crossentropy',\n",
    "              metrics=['accuracy'])\n",
    "    model.summary()\n",
    "    tb_cb = TensorBoard(log_dir='./logs', histogram_freq=0, batch_size=32, \n",
    "                write_graph=True, write_grads=True, )\n",
    "    # used to train only on a subset while configuring the network architecture\n",
    "    train_nb = 128\n",
    "    # comment next line if you want to work on a smaller dataset\n",
    "    train_nb = None\n",
    "    if not train_nb:\n",
    "        train_nb = len(X_train)\n",
    "    xval_nb = 20\n",
    "    # comment next line if you want to work on a smaller dataset\n",
    "    xval_nb = None\n",
    "    if not xval_nb:\n",
    "        xval_nb = len(X_xval)\n",
    "    epochs_nb = 10  #should be 10 \n",
    "    steps_per_epoch=train_nb// batch_size\n",
    "    print(\"nb steps per epoch\", steps_per_epoch)\n",
    "    train_cat_gen = categorical_generator(X_train[:train_nb],y_train[:train_nb],batch_size=batch_size,vocab_nb=vocab_nb)\n",
    "    xval_cat_gen = categorical_generator(X_xval[:xval_nb],y_xval[:xval_nb],batch_size=batch_size,vocab_nb=vocab_nb)\n",
    "    history = model.fit_generator(train_cat_gen, steps_per_epoch=steps_per_epoch,epochs=epochs_nb, validation_data=xval_cat_gen,validation_steps=1 ,verbose=1, callbacks=[tb_cb])\n",
    "    \n",
    "    \n",
    "    model.save('./model_v1')\n",
    "    model.save_weights('./model_w_v1')\n",
    "\n",
    "\n"
   ]
  },
  {
   "cell_type": "code",
   "execution_count": null,
   "metadata": {},
   "outputs": [],
   "source": []
  },
  {
   "cell_type": "code",
   "execution_count": 40,
   "metadata": {},
   "outputs": [],
   "source": [
    "%matplotlib inline"
   ]
  },
  {
   "cell_type": "code",
   "execution_count": 41,
   "metadata": {},
   "outputs": [
    {
     "data": {
      "image/png": "[encoded data removed]",
      "text/plain": [
       "<Figure size 432x288 with 1 Axes>"
      ]
     },
     "metadata": {},
     "output_type": "display_data"
    },
    {
     "data": {
      "image/png": "[encoded data removed]",
      "text/plain": [
       "<Figure size 432x288 with 1 Axes>"
      ]
     },
     "metadata": {},
     "output_type": "display_data"
    }
   ],
   "source": [
    "import matplotlib.pyplot as plt\n",
    "\n",
    "acc = history.history['acc']\n",
    "val_acc = history.history['val_acc']\n",
    "loss = history.history['loss']\n",
    "val_loss = history.history['val_loss']\n",
    "\n",
    "epochs = range(len(acc))\n",
    "\n",
    "plt.plot(epochs, acc, 'bo', label='Training acc')\n",
    "plt.plot(epochs, val_acc, 'b', label='Validation acc')\n",
    "plt.title('Training and validation accuracy')\n",
    "plt.legend()\n",
    "\n",
    "plt.figure()\n",
    "\n",
    "plt.plot(epochs, loss, 'bo', label='Training loss')\n",
    "plt.plot(epochs, val_loss, 'b', label='Validation loss')\n",
    "plt.title('Training and validation loss')\n",
    "plt.legend()\n",
    "\n",
    "plt.show()"
   ]
  },
  {
   "cell_type": "code",
   "execution_count": null,
   "metadata": {},
   "outputs": [],
   "source": []
  },
  {
   "cell_type": "code",
   "execution_count": null,
   "metadata": {},
   "outputs": [],
   "source": []
  },
  {
   "cell_type": "code",
   "execution_count": null,
   "metadata": {},
   "outputs": [],
   "source": []
  },
  {
   "cell_type": "code",
   "execution_count": null,
   "metadata": {},
   "outputs": [],
   "source": []
  },
  {
   "cell_type": "code",
   "execution_count": null,
   "metadata": {},
   "outputs": [],
   "source": []
  },
  {
   "cell_type": "code",
   "execution_count": null,
   "metadata": {},
   "outputs": [],
   "source": []
  },
  {
   "cell_type": "code",
   "execution_count": null,
   "metadata": {},
   "outputs": [],
   "source": []
  },
  {
   "cell_type": "code",
   "execution_count": null,
   "metadata": {},
   "outputs": [],
   "source": [
    "\n"
   ]
  },
  {
   "cell_type": "code",
   "execution_count": null,
   "metadata": {},
   "outputs": [],
   "source": []
  },
  {
   "cell_type": "code",
   "execution_count": null,
   "metadata": {},
   "outputs": [],
   "source": []
  }
 ],
 "metadata": {
  "kernelspec": {
   "display_name": "Python 3",
   "language": "python",
   "name": "python3"
  },
  "language_info": {
   "codemirror_mode": {
    "name": "ipython",
    "version": 3
   },
   "file_extension": ".py",
   "mimetype": "text/x-python",
   "name": "python",
   "nbconvert_exporter": "python",
   "pygments_lexer": "ipython3",
   "version": "3.5.2"
  }
 },
 "nbformat": 4,
 "nbformat_minor": 2
}
