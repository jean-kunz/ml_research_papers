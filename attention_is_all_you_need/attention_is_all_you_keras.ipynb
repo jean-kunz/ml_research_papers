{
  "nbformat": 4,
  "nbformat_minor": 0,
  "metadata": {
    "colab": {
      "name": "attention_is_all_you_keras.ipynb",
      "version": "0.3.2",
      "provenance": []
    },
    "kernelspec": {
      "name": "python3",
      "display_name": "Python 3"
    },
    "accelerator": "TPU"
  },
  "cells": [
    {
      "metadata": {
        "id": "5etTP1eZE0UB",
        "colab_type": "text"
      },
      "cell_type": "markdown",
      "source": [
        "## Attention is all you need\n",
        "\n",
        "Personal implementation in tensorflow keras of  https://arxiv.org/abs/1706.03762\n",
        "\n",
        "http://jalammar.github.io/illustrated-transformer/  and http://nlp.seas.harvard.edu/2018/04/03/attention.html were heavily used as an inspiration source.\n",
        "\n",
        "WORK IN PROGRESS ...."
      ]
    },
    {
      "metadata": {
        "id": "nSd4F-9XE0UF",
        "colab_type": "code",
        "colab": {}
      },
      "cell_type": "code",
      "source": [
        "import tensorflow as tf\n",
        "import numpy as np\n",
        "import math\n",
        "import logging\n",
        "\n",
        "import matplotlib.pyplot as plt\n",
        "import seaborn\n",
        "seaborn.set_context(context=\"talk\")\n",
        "%matplotlib inline"
      ],
      "execution_count": 0,
      "outputs": []
    },
    {
      "metadata": {
        "id": "Aj-X6cctE0UQ",
        "colab_type": "raw"
      },
      "cell_type": "markdown",
      "source": [
        "!tensorboard --logdir ./logs --port 6006 --debugger_port 6064"
      ]
    },
    {
      "metadata": {
        "id": "oPYpunI7E0US",
        "colab_type": "code",
        "colab": {}
      },
      "cell_type": "code",
      "source": [
        "tfe = tf.contrib.eager\n",
        "\n",
        "tf.enable_eager_execution()\n",
        "\n",
        "from tensorflow.python import debug as tf_debug\n"
      ],
      "execution_count": 0,
      "outputs": []
    },
    {
      "metadata": {
        "id": "smLp0FzwE0UX",
        "colab_type": "text"
      },
      "cell_type": "markdown",
      "source": [
        "### Simple problem to solve\n",
        "learn to copy a input vector of digits"
      ]
    },
    {
      "metadata": {
        "id": "VbB0A_KfE0Ua",
        "colab_type": "code",
        "colab": {}
      },
      "cell_type": "code",
      "source": [
        "from tensorflow.keras.preprocessing.text import one_hot\n",
        "from tensorflow.keras.utils import to_categorical\n",
        "from tensorflow.keras.models import Model\n",
        "from tensorflow.keras import layers, Input\n",
        "from tensorflow.keras.optimizers import SGD, RMSprop\n"
      ],
      "execution_count": 0,
      "outputs": []
    },
    {
      "metadata": {
        "id": "Mp0qxMjDE0Ue",
        "colab_type": "code",
        "colab": {}
      },
      "cell_type": "code",
      "source": [
        "from tensorflow.keras.preprocessing.text import one_hot\n",
        "from tensorflow.keras.utils import to_categorical\n",
        "from tensorflow.keras.models import Model\n",
        "from tensorflow.keras import layers, Input\n",
        "#from tensorflow.keras.optimizers import SGD\n"
      ],
      "execution_count": 0,
      "outputs": []
    },
    {
      "metadata": {
        "id": "DDuN0pcoE0Ui",
        "colab_type": "code",
        "colab": {}
      },
      "cell_type": "code",
      "source": [
        "import tensorflow.keras.backend as K"
      ],
      "execution_count": 0,
      "outputs": []
    },
    {
      "metadata": {
        "id": "eTQHYpyGE0Un",
        "colab_type": "code",
        "colab": {}
      },
      "cell_type": "code",
      "source": [
        "K.set_session(\n",
        "    tf_debug.TensorBoardDebugWrapperSession(tf.Session(), \"91001b0abf93:6064\"))\n"
      ],
      "execution_count": 0,
      "outputs": []
    },
    {
      "metadata": {
        "id": "NSiUqTiEE0Us",
        "colab_type": "text"
      },
      "cell_type": "markdown",
      "source": [
        "## Start from the outside to the inside\n",
        "\n",
        "Start with the global structure of model -> then implement each block and layers"
      ]
    },
    {
      "metadata": {
        "id": "FvP17Pq7E0Uv",
        "colab_type": "code",
        "colab": {}
      },
      "cell_type": "code",
      "source": [
        ""
      ],
      "execution_count": 0,
      "outputs": []
    },
    {
      "metadata": {
        "id": "uRHcMnydE0Uy",
        "colab_type": "code",
        "colab": {}
      },
      "cell_type": "code",
      "source": [
        ""
      ],
      "execution_count": 0,
      "outputs": []
    },
    {
      "metadata": {
        "id": "dYJULBtOE0U4",
        "colab_type": "raw"
      },
      "cell_type": "markdown",
      "source": [
        "embedding_size=25\n",
        "hidden_size = 20\n",
        "input = Input(shape=(max_len,vocab_size))\n",
        "#print(input.shape)\n",
        "embedded = layers.Embedding(input_dim=vocab_size, output_dim=embedding_size, input_length=max_len)(input)\n",
        "#print(embedded.shape)\n",
        "self_att = SelfAttentionLayer(hidden_size)(embedded)\n",
        "\n",
        "y_pred = layers.Dense(1, activation='softmax')(self_att[0])"
      ]
    },
    {
      "metadata": {
        "id": "zPoVtxT7E0U5",
        "colab_type": "raw"
      },
      "cell_type": "markdown",
      "source": [
        "class TransformerModel(Model):\n",
        "    def __init__(self, embedding_size, hidden_size,vocab_size, max_len):\n",
        "        super(TransformerModel, self).__init__(name='')\n",
        "        self.embedding_size=embedding_size\n",
        "        self.hidden_size = hidden_size\n",
        "        self.vocab_size = vocab_size\n",
        "        self.max_len = max_len\n",
        "        self.embedded = layers.Embedding(input_dim=vocab_size, output_dim=embedding_size, input_length=max_len)\n",
        "        self.self_att = SelfAttentionLayer(self.hidden_size)\n",
        "        \n",
        "    def call(self, input, training=False):\n",
        "        print(input.shape)\n",
        "        x = self.embedded(input)\n",
        "        q,k,v = self.self_att(x)\n",
        "        return q,k,v\n",
        "\n",
        "embedding_size=25\n",
        "hidden_size = 20\n",
        "vocab_size=10  #vocabulary size\n",
        "max_len = 5\n",
        "transformer = TransformerModel(embedding_size, hidden_size, vocab_size, max_len)\n"
      ]
    },
    {
      "metadata": {
        "id": "gWvgutJsE0U7",
        "colab_type": "code",
        "colab": {}
      },
      "cell_type": "code",
      "source": [
        "def data_gen(vocab_size, max_len, batch_size, batch_nb):\n",
        "    \"Generate random data for a src-tgt copy task.\"\n",
        "    for i in range(batch_nb):\n",
        "        src = np.random.randint(0, vocab_size, size=(batch_size, max_len))\n",
        "        src_cat = to_categorical(src)\n",
        "        tgt = src\n",
        "        tgt_cat = to_categorical(tgt)\n",
        "        yield (src, src_cat, tgt, tgt_cat )"
      ],
      "execution_count": 0,
      "outputs": []
    },
    {
      "metadata": {
        "id": "k-XSNCqPE0VB",
        "colab_type": "raw"
      },
      "cell_type": "markdown",
      "source": [
        "batch_size=2\n",
        "batch_nb = 1\n",
        "vocab_size = 10\n",
        "\n",
        "for src,src_cat,tgt,tgt_cat in data_gen(vocab_size, max_len, batch_size, batch_nb):\n",
        "    #transformer(src)\n",
        "    src\n",
        "\n",
        "src,src_cat"
      ]
    },
    {
      "metadata": {
        "id": "ukCBCcAyE0VE",
        "colab_type": "raw"
      },
      "cell_type": "markdown",
      "source": [
        "model = Model(input, y_pred)\n",
        "model.summary()\n",
        "optim = tf.train.GradientDescentOptimizer(learning_rate=0.01)\n",
        "model.compile(optimizer=optim,loss='categorical_crossentropy')"
      ]
    },
    {
      "metadata": {
        "id": "ax7y9sgYE0VF",
        "colab_type": "code",
        "colab": {}
      },
      "cell_type": "code",
      "source": [
        "\n"
      ],
      "execution_count": 0,
      "outputs": []
    },
    {
      "metadata": {
        "id": "qStm80AmE0VL",
        "colab_type": "code",
        "colab": {}
      },
      "cell_type": "code",
      "source": [
        "class SelfAttentionLayer(layers.Layer):\n",
        "    \n",
        "    def __init__(self, hidden_size,attention_head_nb=8):\n",
        "        super(SelfAttentionLayer, self).__init__()\n",
        "        self.hidden_size=hidden_size\n",
        "        self.attention_head_nb = attention_head_nb\n",
        "    \n",
        "    def build(self, input_shape ):\n",
        "        #print(\"input_shape:\",input_shape, input_shape[-1].value)\n",
        "        self.WQ = self.add_weight(\"WQ\", \n",
        "                                    shape=[input_shape[-1].value, \n",
        "                                    self.hidden_size])\n",
        "        self.WK = self.add_weight(\"WK\", \n",
        "                                    shape=[input_shape[-1].value, \n",
        "                                    self.hidden_size])\n",
        "        self.WV = self.add_weight(\"WV\", \n",
        "                                    shape=[input_shape[-1].value, \n",
        "                                    self.hidden_size])\n",
        "        \n",
        "\n",
        "        self.WQs = []\n",
        "        self.WKs = []\n",
        "        self.WVs = []\n",
        "        \n",
        "        self.W0 = self.add_weight(\"W0\",shape=[self.hidden_size*self.attention_head_nb,self.hidden_size])\n",
        "        \n",
        "        for i in range(self.attention_head_nb):\n",
        "            self.WQs.append( self.add_weight(\"WQ-\"+str(i), \n",
        "                                    shape=[input_shape[-1].value, \n",
        "                                    self.hidden_size]))\n",
        "            self.WKs.append( self.add_weight(\"WK-\"+str(i), \n",
        "                        shape=[input_shape[-1].value, \n",
        "                        self.hidden_size]))\n",
        "                \n",
        "            self.WVs.append( self.add_weight(\"WV-\"+str(i), \n",
        "                    shape=[input_shape[-1].value, \n",
        "                    self.hidden_size]))\n",
        "        self.built = True\n",
        "        \n",
        "    def self_attend(self, input, WQ, WK, WV):\n",
        "        tf.logging.debug(\"Shape input: {0}\".format(input.shape))\n",
        "        # use K.dot instead of tf.matmul because tf.matmul don't support dot product of a batch (3d) by a matrix (2d)\n",
        "        \n",
        "        query = K.dot(input, WQ) \n",
        "        key = K.dot(input, WK)\n",
        "        value = K.dot(input, WV)\n",
        "        \n",
        "        tf.logging.debug(\"Shapes, query: {0}, WQ: {1}, key: {2}, WK: {3}, value: {4}, WV: {5}\".format(query.shape,\n",
        "                                                                                                       WQ.shape,\n",
        "                                                                                                       key.shape,\n",
        "                                                                                                       WK.shape,\n",
        "                                                                                                       value,\n",
        "                                                                                                       WV.shape))\n",
        "        \n",
        "        tf.logging.debug(\"Transposed key shape: {0}\".format(tf.transpose(key,perm=[0,2,1]).shape))\n",
        "        score = tf.matmul(query,tf.transpose(key,perm=[0,2,1]))\n",
        "        tf.logging.debug(\"score shape: {0}\".format(score.shape))\n",
        "        divided_score = tf.divide(score,8)\n",
        "        tf.logging.debug(\"score divided by 8: {0}\".format(divided_score.shape))\n",
        "        softmax = tf.nn.softmax(divided_score)\n",
        "        tf.logging.debug(\"softmax: {0}\".format(softmax.shape))\n",
        "        z = tf.matmul(softmax,value)\n",
        "        tf.logging.debug(\"z: {0}\".format(z.shape))\n",
        "        #assert z.shape[1]== self.hidden_size, \"z shape second dim should be equal to hidden size\"\n",
        "        assert np.array_equal(z.shape[1:],value.shape[1:]),\"z shape and value shape should be equals:\"\n",
        "        return z\n",
        "        \n",
        "    \n",
        "    def call(self, input):\n",
        "        zs = []\n",
        "        for i in range(self.attention_head_nb):\n",
        "            wq = self.WQs[i]\n",
        "            wk = self.WKs[i]\n",
        "            wv = self.WVs[i]\n",
        "            z = self.self_attend(input,wq,wk,wv)\n",
        "            zs.append(z)\n",
        "        concat_z = K.concatenate(zs)\n",
        "        \n",
        "        assert concat_z.shape[2]==self.hidden_size*self.attention_head_nb, \"concantenated z should be hidden_size* attention_head_nb long\"\n",
        "        tf.logging.debug(\"Concatenated Z shape: {0}\".format(concat_z.shape))\n",
        "        \n",
        "        layer_output = K.dot(concat_z, self.W0)\n",
        "        assert layer_output.shape[2] == self.hidden_size, \"layer output second dim should be equal to hidden size\"\n",
        "        tf.logging.debug(\"Layer output shape: {0}\".format(layer_output.shape))\n",
        "        return layer_output\n",
        "\n",
        "    "
      ],
      "execution_count": 0,
      "outputs": []
    },
    {
      "metadata": {
        "id": "QRa3j7OiE0VS",
        "colab_type": "code",
        "colab": {
          "base_uri": "https://localhost:8080/",
          "height": 34
        },
        "outputId": "2c3ab1ac-f58d-4935-cd92-a304437e225e"
      },
      "cell_type": "code",
      "source": [
        "embedding_size=25\n",
        "hidden_size = 20\n",
        "max_len = 15\n",
        "vocab_size=10  \n",
        "\n",
        "tf.test.gpu_device_name()"
      ],
      "execution_count": 10,
      "outputs": [
        {
          "output_type": "execute_result",
          "data": {
            "text/plain": [
              "''"
            ]
          },
          "metadata": {
            "tags": []
          },
          "execution_count": 10
        }
      ]
    },
    {
      "metadata": {
        "id": "a-_wdmPnE0VX",
        "colab_type": "code",
        "colab": {}
      },
      "cell_type": "code",
      "source": [
        "class PositionalEncodingLayer(layers.Layer):\n",
        "    \n",
        "    def __init__(self, hidden_size,dropout_proba,max_len=5000):\n",
        "        super(PositionalEncodingLayer, self).__init__()\n",
        "        self.hidden_size=hidden_size\n",
        "        self.dropout = 1-dropout_proba\n",
        "        self.max_len=max_len\n",
        "    \n",
        "    def build(self,input_shape):\n",
        "        1+1\n",
        "    \n",
        "    def call(self,input):\n",
        "        tf.logging.debug(\"Input: {0}\".format(input.shape))\n",
        "        #pe = tf.Variable(lambda:tf.zeros([self.max_len, self.hidden_size],dtype=tf.float32))\n",
        "        #pe = tf.Variable(np.zeros((self.max_len, self.hidden_size)),dtype=tf.float32)\n",
        "        pe = K.variable(np.zeros((self.max_len, self.hidden_size)),dtype=tf.float32)\n",
        "        tf.logging.debug(\"pe: {0}\".format(pe.shape))\n",
        "        position = tf.expand_dims(tf.range(0,self.max_len, 1, dtype=tf.float32),1)\n",
        "        tf.logging.debug(\"position: {0}\".format(position.shape))\n",
        "        div_term = tf.exp(\n",
        "                        tf.range(0,self.hidden_size,2,dtype=tf.float32) * -(tf.log(tf.constant(10000.0)) / self.hidden_size)\n",
        "        )\n",
        "        tf.logging.debug(\"div_term: {0}\".format(div_term.shape))\n",
        "        pos_div_term = position * div_term\n",
        "        tf.logging.debug(\"pos mult by div_term: {0}\".format(pos_div_term.shape))\n",
        "        tf.assign(pe[:,0::2],tf.sin(pos_div_term))\n",
        "        tf.assign(pe[:,1::2],tf.cos(pos_div_term))\n",
        "        #tf.logging.debug(\"updated pe: \", str(pe.shape))\n",
        "        \n",
        "        pe = tf.expand_dims(pe,0)\n",
        "        tf.logging.debug(\"updated pe: {0} \".format(pe.shape))\n",
        "        \n",
        "        # It should have the same shape as input\n",
        "        returned_pe = pe[:, :input.shape[1]]\n",
        "        input_and_pe = input + returned_pe\n",
        "        tf.logging.debug(\"pos encoding (pe) + input embeddings : {0} \".format(input_and_pe.shape))\n",
        "        input_and_pe_drop = tf.nn.dropout(input_and_pe, self.dropout)\n",
        "        \n",
        "        return input_and_pe_drop\n",
        "\n",
        "\n"
      ],
      "execution_count": 0,
      "outputs": []
    },
    {
      "metadata": {
        "id": "Ck9KXjojSqb8",
        "colab_type": "code",
        "colab": {
          "base_uri": "https://localhost:8080/",
          "height": 341
        },
        "outputId": "ce75db14-14d4-44af-e976-89e84977e20b"
      },
      "cell_type": "code",
      "source": [
        "tf.logging.set_verbosity(tf.logging.ERROR)\n",
        "\n",
        "\n",
        "pos_enc_seq = tf.keras.Sequential([PositionalEncodingLayer(20,0.1)])\n",
        "x = tf.zeros((1,100,20),dtype=tf.float32)\n",
        "y = pos_enc_seq(x)\n",
        "tf.logging.debug('y: {0}'.format(y.shape))\n",
        "plt.figure(figsize=(15, 5))\n",
        "plt.plot(np.arange(100), y[0, :, 4:8])\n",
        "plt.legend([\"dim %d\"%p for p in [4,5,6,7]])"
      ],
      "execution_count": 12,
      "outputs": [
        {
          "output_type": "execute_result",
          "data": {
            "text/plain": [
              "<matplotlib.legend.Legend at 0x7f376ea642e8>"
            ]
          },
          "metadata": {
            "tags": []
          },
          "execution_count": 12
        },
        {
          "output_type": "display_data",
          "data": {
            "image/png": "[encoded data removed]",
            "text/plain": [
              "<matplotlib.figure.Figure at 0x7f3770b96e48>"
            ]
          },
          "metadata": {
            "tags": []
          }
        }
      ]
    },
    {
      "metadata": {
        "id": "FBzwJU0uE0Vw",
        "colab_type": "code",
        "colab": {
          "base_uri": "https://localhost:8080/",
          "height": 130
        },
        "outputId": "7b98e87e-bc15-49ef-fac1-a799b6773af5"
      },
      "cell_type": "code",
      "source": [
        "class AddAndNormalizeLayer(layers.Layer):\n",
        "    \n",
        "    def __init__(self, eps=1e-6):\n",
        "      super(AddAndNormalizeLayer, self).__init__()\n",
        "      self.eps = eps\n",
        "      \n",
        "      \n",
        "    def build(self,input_shape):\n",
        "      assert isinstance(input_shape,list)==True\n",
        "      self.g = self.add_weight(name='gain',\n",
        "                                shape=input_shape[0].)\n",
        "    \n",
        "    def call(self,input):\n",
        "      assert isinstance(input, list)==True\n",
        "      x = input[0]\n",
        "      z = input[1]\n",
        "      added = tf.add(x,z)\n",
        "      \n",
        "      mean = K.mean(x,axis=1)\n",
        "      std = K.std(x,axis=1)\n",
        "      \n",
        "      return added\n",
        "    \n",
        "add_norm = tf.keras.Sequential([AddAndNormalizeLayer()])\n",
        "x1 = tf.ones((3,100,20),dtype=tf.float32)\n",
        "x2 = tf.ones((3,100,20),dtype=tf.float32)\n",
        "y = add_norm([x1,x2])\n",
        "print(y.shape)"
      ],
      "execution_count": 21,
      "outputs": [
        {
          "output_type": "error",
          "ename": "SyntaxError",
          "evalue": "ignored",
          "traceback": [
            "\u001b[0;36m  File \u001b[0;32m\"<ipython-input-21-aaf35e02ec80>\"\u001b[0;36m, line \u001b[0;32m9\u001b[0m\n\u001b[0;31m    shape=input_shape[0].)\u001b[0m\n\u001b[0m                         ^\u001b[0m\n\u001b[0;31mSyntaxError\u001b[0m\u001b[0;31m:\u001b[0m invalid syntax\n"
          ]
        }
      ]
    },
    {
      "metadata": {
        "id": "afspjEW9Td9y",
        "colab_type": "code",
        "colab": {}
      },
      "cell_type": "code",
      "source": [
        ""
      ],
      "execution_count": 0,
      "outputs": []
    },
    {
      "metadata": {
        "id": "f84-E9qLE0V1",
        "colab_type": "code",
        "colab": {
          "base_uri": "https://localhost:8080/",
          "height": 34
        },
        "outputId": "69c68bc9-f70d-4097-d188-80777134c84f"
      },
      "cell_type": "code",
      "source": [
        "\n",
        "cbs =[ tf.keras.callbacks.TensorBoard(log_dir='./logs')]\n",
        "tf.logging.set_verbosity(tf.logging.ERROR)\n",
        "\n",
        "input = Input(shape=(max_len,vocab_size))\n",
        "#print(input.shape)\n",
        "embedded = layers.Embedding(input_dim=vocab_size, output_dim=embedding_size, input_length=max_len)(input)\n",
        "embedded_pe = PositionalEncodingLayer(embedding_size,0.1)(embedded)\n",
        "self_att = SelfAttentionLayer(hidden_size)(embedded_pe)\n",
        "self_att.shape"
      ],
      "execution_count": 17,
      "outputs": [
        {
          "output_type": "execute_result",
          "data": {
            "text/plain": [
              "TensorShape([Dimension(None), Dimension(15), Dimension(20)])"
            ]
          },
          "metadata": {
            "tags": []
          },
          "execution_count": 17
        }
      ]
    },
    {
      "metadata": {
        "id": "lbGpe56QE0V-",
        "colab_type": "text"
      },
      "cell_type": "markdown",
      "source": [
        "It should return\n",
        "\n",
        "- input: max_len * embedding_size\n",
        "- query shape: max_len * hidden_size\n",
        "- weight query shape : embedding_size * hidden_size"
      ]
    },
    {
      "metadata": {
        "id": "a79IABGNE0WC",
        "colab_type": "code",
        "colab": {},
        "outputId": "63b39eb2-4aa2-4846-a9f8-2cfff26f0d18"
      },
      "cell_type": "code",
      "source": [
        "batch_size=4\n",
        "batch_nb = 1\n",
        "\n",
        "model = Model(input,self_att)\n",
        "model.compile(tf.train.GradientDescentOptimizer(learning_rate=0.01), 'mse')\n",
        "for src,src_cat,tgt,tgt_cat in data_gen(vocab_size, max_len, batch_size, batch_nb):\n",
        "    #transformer(src)\n",
        "    src\n",
        "\n",
        "    output_array = model.predict(src)\n",
        "\n",
        "#src,src_cat\n",
        "#output_array.shape\n"
      ],
      "execution_count": 0,
      "outputs": [
        {
          "output_type": "stream",
          "text": [
            "DEBUG:tensorflow:Shape input: (4, 15, 25)\n",
            "DEBUG:tensorflow:Shapes, query: (4, 15, 20), WQ: (25, 20), key: (4, 15, 20), WK: (25, 20), value: [[[ 4.44511976e-03  1.51079465e-02  4.06683125e-02 ... -1.85186341e-02\n",
            "   -3.18874121e-02 -7.23998994e-03]\n",
            "  [-1.78733859e-02  4.50834483e-02 -6.87789023e-02 ...  4.64544911e-03\n",
            "    7.96483457e-03  2.81966757e-04]\n",
            "  [ 1.97431748e-03 -8.39156844e-03  2.63411757e-02 ...  4.88273278e-02\n",
            "    6.11499175e-02 -8.58121738e-03]\n",
            "  ...\n",
            "  [-7.23005692e-03  2.11854465e-03  7.25130364e-02 ...  6.15358911e-03\n",
            "   -8.18605423e-02  1.77434832e-02]\n",
            "  [-7.23005692e-03  2.11854465e-03  7.25130364e-02 ...  6.15358911e-03\n",
            "   -8.18605423e-02  1.77434832e-02]\n",
            "  [ 1.59777887e-02  2.51839124e-02  7.12427683e-03 ...  2.67755985e-02\n",
            "    2.97291391e-03  3.69649455e-02]]\n",
            "\n",
            " [[-1.78733859e-02  4.50834483e-02 -6.87789023e-02 ...  4.64544911e-03\n",
            "    7.96483457e-03  2.81966757e-04]\n",
            "  [ 4.44511976e-03  1.51079465e-02  4.06683125e-02 ... -1.85186341e-02\n",
            "   -3.18874121e-02 -7.23998994e-03]\n",
            "  [-7.23005692e-03  2.11854465e-03  7.25130364e-02 ...  6.15358911e-03\n",
            "   -8.18605423e-02  1.77434832e-02]\n",
            "  ...\n",
            "  [-1.39426440e-02 -9.12666228e-03  1.36360927e-02 ...  1.48557220e-02\n",
            "    1.60635337e-02 -1.82043370e-02]\n",
            "  [-1.39426440e-02 -9.12666228e-03  1.36360927e-02 ...  1.48557220e-02\n",
            "    1.60635337e-02 -1.82043370e-02]\n",
            "  [ 1.59777887e-02  2.51839124e-02  7.12427683e-03 ...  2.67755985e-02\n",
            "    2.97291391e-03  3.69649455e-02]]\n",
            "\n",
            " [[ 4.44511976e-03  1.51079465e-02  4.06683125e-02 ... -1.85186341e-02\n",
            "   -3.18874121e-02 -7.23998994e-03]\n",
            "  [-2.07484253e-02 -4.73014079e-05  5.74565679e-02 ... -3.61237414e-02\n",
            "   -3.22360396e-02  6.48445562e-02]\n",
            "  [-7.23005692e-03  2.11854465e-03  7.25130364e-02 ...  6.15358911e-03\n",
            "   -8.18605423e-02  1.77434832e-02]\n",
            "  ...\n",
            "  [ 7.40013719e-02  6.79833293e-02 -2.30542570e-03 ...  2.56407559e-02\n",
            "   -6.75518289e-02 -8.37799441e-03]\n",
            "  [ 2.75924243e-02 -8.10039975e-03 -2.98625138e-03 ... -2.22746246e-02\n",
            "    1.61963142e-02  4.94347736e-02]\n",
            "  [-1.78733859e-02  4.50834483e-02 -6.87789023e-02 ...  4.64544911e-03\n",
            "    7.96483457e-03  2.81966757e-04]]\n",
            "\n",
            " [[ 2.75924243e-02 -8.10039975e-03 -2.98625138e-03 ... -2.22746246e-02\n",
            "    1.61963142e-02  4.94347736e-02]\n",
            "  [ 1.97431748e-03 -8.39156844e-03  2.63411757e-02 ...  4.88273278e-02\n",
            "    6.11499175e-02 -8.58121738e-03]\n",
            "  [ 1.97431748e-03 -8.39156844e-03  2.63411757e-02 ...  4.88273278e-02\n",
            "    6.11499175e-02 -8.58121738e-03]\n",
            "  ...\n",
            "  [-2.07484253e-02 -4.73014079e-05  5.74565679e-02 ... -3.61237414e-02\n",
            "   -3.22360396e-02  6.48445562e-02]\n",
            "  [-2.07484253e-02 -4.73014079e-05  5.74565679e-02 ... -3.61237414e-02\n",
            "   -3.22360396e-02  6.48445562e-02]\n",
            "  [ 1.97431748e-03 -8.39156844e-03  2.63411757e-02 ...  4.88273278e-02\n",
            "    6.11499175e-02 -8.58121738e-03]]], WV: (25, 20)\n",
            "DEBUG:tensorflow:Transposed key shape: (4, 20, 15)\n",
            "DEBUG:tensorflow:score shape: (4, 15, 15)\n",
            "DEBUG:tensorflow:score divided by 8: (4, 15, 15)\n",
            "DEBUG:tensorflow:softmax: (4, 15, 15)\n",
            "DEBUG:tensorflow:z: (4, 15, 20)\n",
            "DEBUG:tensorflow:Shape input: (4, 15, 25)\n",
            "DEBUG:tensorflow:Shapes, query: (4, 15, 20), WQ: (25, 20), key: (4, 15, 20), WK: (25, 20), value: [[[ 0.00263804  0.00162212 -0.00735323 ... -0.04619882  0.05426627\n",
            "    0.05750732]\n",
            "  [-0.06719673  0.02796508  0.01487188 ...  0.02372028 -0.02419725\n",
            "   -0.01773137]\n",
            "  [-0.03291257 -0.01615454 -0.01464073 ...  0.04216562 -0.03445694\n",
            "    0.02538682]\n",
            "  ...\n",
            "  [ 0.01450121 -0.00999338  0.00826577 ... -0.00284401 -0.00275016\n",
            "    0.04333727]\n",
            "  [ 0.01450121 -0.00999338  0.00826577 ... -0.00284401 -0.00275016\n",
            "    0.04333727]\n",
            "  [ 0.05326472 -0.0377989  -0.01685582 ... -0.05128637  0.03988453\n",
            "   -0.07081804]]\n",
            "\n",
            " [[-0.06719673  0.02796508  0.01487188 ...  0.02372028 -0.02419725\n",
            "   -0.01773137]\n",
            "  [ 0.00263804  0.00162212 -0.00735323 ... -0.04619882  0.05426627\n",
            "    0.05750732]\n",
            "  [ 0.01450121 -0.00999338  0.00826577 ... -0.00284401 -0.00275016\n",
            "    0.04333727]\n",
            "  ...\n",
            "  [ 0.01421099  0.00604827  0.02120578 ...  0.03720352 -0.02043596\n",
            "    0.01407339]\n",
            "  [ 0.01421099  0.00604827  0.02120578 ...  0.03720352 -0.02043596\n",
            "    0.01407339]\n",
            "  [ 0.05326472 -0.0377989  -0.01685582 ... -0.05128637  0.03988453\n",
            "   -0.07081804]]\n",
            "\n",
            " [[ 0.00263804  0.00162212 -0.00735323 ... -0.04619882  0.05426627\n",
            "    0.05750732]\n",
            "  [ 0.02100859 -0.06757212 -0.04313888 ...  0.01032303 -0.01180643\n",
            "    0.02811229]\n",
            "  [ 0.01450121 -0.00999338  0.00826577 ... -0.00284401 -0.00275016\n",
            "    0.04333727]\n",
            "  ...\n",
            "  [-0.01360877  0.01682357  0.07373515 ... -0.01353047  0.03789604\n",
            "   -0.06805895]\n",
            "  [-0.00479183 -0.050179   -0.02119595 ... -0.05224533  0.05173396\n",
            "   -0.0067825 ]\n",
            "  [-0.06719673  0.02796508  0.01487188 ...  0.02372028 -0.02419725\n",
            "   -0.01773137]]\n",
            "\n",
            " [[-0.00479183 -0.050179   -0.02119595 ... -0.05224533  0.05173396\n",
            "   -0.0067825 ]\n",
            "  [-0.03291257 -0.01615454 -0.01464073 ...  0.04216562 -0.03445694\n",
            "    0.02538682]\n",
            "  [-0.03291257 -0.01615454 -0.01464073 ...  0.04216562 -0.03445694\n",
            "    0.02538682]\n",
            "  ...\n",
            "  [ 0.02100859 -0.06757212 -0.04313888 ...  0.01032303 -0.01180643\n",
            "    0.02811229]\n",
            "  [ 0.02100859 -0.06757212 -0.04313888 ...  0.01032303 -0.01180643\n",
            "    0.02811229]\n",
            "  [-0.03291257 -0.01615454 -0.01464073 ...  0.04216562 -0.03445694\n",
            "    0.02538682]]], WV: (25, 20)\n",
            "DEBUG:tensorflow:Transposed key shape: (4, 20, 15)\n",
            "DEBUG:tensorflow:score shape: (4, 15, 15)\n",
            "DEBUG:tensorflow:score divided by 8: (4, 15, 15)\n",
            "DEBUG:tensorflow:softmax: (4, 15, 15)\n",
            "DEBUG:tensorflow:z: (4, 15, 20)\n",
            "DEBUG:tensorflow:Shape input: (4, 15, 25)\n",
            "DEBUG:tensorflow:Shapes, query: (4, 15, 20), WQ: (25, 20), key: (4, 15, 20), WK: (25, 20), value: [[[ 0.02246701  0.00115363 -0.02756513 ...  0.00756582  0.02265381\n",
            "    0.04130182]\n",
            "  [-0.00515593 -0.0218194  -0.02401201 ... -0.0499658   0.00201282\n",
            "    0.03196243]\n",
            "  [ 0.01129949 -0.03368782  0.02228444 ...  0.02377819  0.00129732\n",
            "   -0.05429816]\n",
            "  ...\n",
            "  [ 0.02017187  0.00851138  0.00678909 ...  0.04824436  0.02007784\n",
            "    0.00262626]\n",
            "  [ 0.02017187  0.00851138  0.00678909 ...  0.04824436  0.02007784\n",
            "    0.00262626]\n",
            "  [ 0.02032763  0.03974004 -0.05014732 ... -0.01687367  0.02528025\n",
            "    0.00100762]]\n",
            "\n",
            " [[-0.00515593 -0.0218194  -0.02401201 ... -0.0499658   0.00201282\n",
            "    0.03196243]\n",
            "  [ 0.02246701  0.00115363 -0.02756513 ...  0.00756582  0.02265381\n",
            "    0.04130182]\n",
            "  [ 0.02017187  0.00851138  0.00678909 ...  0.04824436  0.02007784\n",
            "    0.00262626]\n",
            "  ...\n",
            "  [-0.00648901 -0.0073027  -0.01179695 ... -0.00890117 -0.00317766\n",
            "    0.00150585]\n",
            "  [-0.00648901 -0.0073027  -0.01179695 ... -0.00890117 -0.00317766\n",
            "    0.00150585]\n",
            "  [ 0.02032763  0.03974004 -0.05014732 ... -0.01687367  0.02528025\n",
            "    0.00100762]]\n",
            "\n",
            " [[ 0.02246701  0.00115363 -0.02756513 ...  0.00756582  0.02265381\n",
            "    0.04130182]\n",
            "  [ 0.02164494 -0.0126453   0.00309513 ...  0.07560118 -0.04352246\n",
            "   -0.00407811]\n",
            "  [ 0.02017187  0.00851138  0.00678909 ...  0.04824436  0.02007784\n",
            "    0.00262626]\n",
            "  ...\n",
            "  [ 0.04563003  0.04069932 -0.02338365 ...  0.00219484 -0.03059071\n",
            "    0.00106851]\n",
            "  [-0.0104111  -0.00065031 -0.03406936 ...  0.04852468  0.02497584\n",
            "   -0.02641669]\n",
            "  [-0.00515593 -0.0218194  -0.02401201 ... -0.0499658   0.00201282\n",
            "    0.03196243]]\n",
            "\n",
            " [[-0.0104111  -0.00065031 -0.03406936 ...  0.04852468  0.02497584\n",
            "   -0.02641669]\n",
            "  [ 0.01129949 -0.03368782  0.02228444 ...  0.02377819  0.00129732\n",
            "   -0.05429816]\n",
            "  [ 0.01129949 -0.03368782  0.02228444 ...  0.02377819  0.00129732\n",
            "   -0.05429816]\n",
            "  ...\n",
            "  [ 0.02164494 -0.0126453   0.00309513 ...  0.07560118 -0.04352246\n",
            "   -0.00407811]\n",
            "  [ 0.02164494 -0.0126453   0.00309513 ...  0.07560118 -0.04352246\n",
            "   -0.00407811]\n",
            "  [ 0.01129949 -0.03368782  0.02228444 ...  0.02377819  0.00129732\n",
            "   -0.05429816]]], WV: (25, 20)\n",
            "DEBUG:tensorflow:Transposed key shape: (4, 20, 15)\n",
            "DEBUG:tensorflow:score shape: (4, 15, 15)\n",
            "DEBUG:tensorflow:score divided by 8: (4, 15, 15)\n",
            "DEBUG:tensorflow:softmax: (4, 15, 15)\n",
            "DEBUG:tensorflow:z: (4, 15, 20)\n",
            "DEBUG:tensorflow:Shape input: (4, 15, 25)\n",
            "DEBUG:tensorflow:Shapes, query: (4, 15, 20), WQ: (25, 20), key: (4, 15, 20), WK: (25, 20), value: [[[ 0.01981223  0.04110044  0.01318701 ... -0.04010337 -0.02332083\n",
            "    0.03173504]\n",
            "  [ 0.02064258  0.01801014 -0.02243044 ... -0.0106627   0.06053825\n",
            "   -0.01094126]\n",
            "  [-0.00810851  0.02185395  0.00801369 ... -0.02338116 -0.0636958\n",
            "   -0.06573929]\n",
            "  ...\n",
            "  [ 0.00288911  0.06626256  0.0551336  ... -0.07225401  0.00437849\n",
            "    0.03172269]\n",
            "  [ 0.00288911  0.06626256  0.0551336  ... -0.07225401  0.00437849\n",
            "    0.03172269]\n",
            "  [ 0.00600117 -0.0552511  -0.0209309  ... -0.00681016 -0.06705251\n",
            "   -0.05437259]]\n",
            "\n",
            " [[ 0.02064258  0.01801014 -0.02243044 ... -0.0106627   0.06053825\n",
            "   -0.01094126]\n",
            "  [ 0.01981223  0.04110044  0.01318701 ... -0.04010337 -0.02332083\n",
            "    0.03173504]\n",
            "  [ 0.00288911  0.06626256  0.0551336  ... -0.07225401  0.00437849\n",
            "    0.03172269]\n",
            "  ...\n",
            "  [-0.02184252  0.01929319  0.01245099 ... -0.00517749 -0.00416647\n",
            "   -0.00134991]\n",
            "  [-0.02184252  0.01929319  0.01245099 ... -0.00517749 -0.00416647\n",
            "   -0.00134991]\n",
            "  [ 0.00600117 -0.0552511  -0.0209309  ... -0.00681016 -0.06705251\n",
            "   -0.05437259]]\n",
            "\n",
            " [[ 0.01981223  0.04110044  0.01318701 ... -0.04010337 -0.02332083\n",
            "    0.03173504]\n",
            "  [-0.00323895  0.01587253  0.01086645 ... -0.01355807  0.04030232\n",
            "    0.0602994 ]\n",
            "  [ 0.00288911  0.06626256  0.0551336  ... -0.07225401  0.00437849\n",
            "    0.03172269]\n",
            "  ...\n",
            "  [-0.00129476 -0.03371461  0.10854122 ...  0.0172181  -0.03251648\n",
            "   -0.00071935]\n",
            "  [ 0.0301192  -0.01616022 -0.02507357 ... -0.02858425  0.01482939\n",
            "    0.00290233]\n",
            "  [ 0.02064258  0.01801014 -0.02243044 ... -0.0106627   0.06053825\n",
            "   -0.01094126]]\n",
            "\n",
            " [[ 0.0301192  -0.01616022 -0.02507357 ... -0.02858425  0.01482939\n",
            "    0.00290233]\n",
            "  [-0.00810851  0.02185395  0.00801369 ... -0.02338116 -0.0636958\n",
            "   -0.06573929]\n",
            "  [-0.00810851  0.02185395  0.00801369 ... -0.02338116 -0.0636958\n",
            "   -0.06573929]\n",
            "  ...\n",
            "  [-0.00323895  0.01587253  0.01086645 ... -0.01355807  0.04030232\n",
            "    0.0602994 ]\n",
            "  [-0.00323895  0.01587253  0.01086645 ... -0.01355807  0.04030232\n",
            "    0.0602994 ]\n",
            "  [-0.00810851  0.02185395  0.00801369 ... -0.02338116 -0.0636958\n",
            "   -0.06573929]]], WV: (25, 20)\n",
            "DEBUG:tensorflow:Transposed key shape: (4, 20, 15)\n",
            "DEBUG:tensorflow:score shape: (4, 15, 15)\n",
            "DEBUG:tensorflow:score divided by 8: (4, 15, 15)\n",
            "DEBUG:tensorflow:softmax: (4, 15, 15)\n",
            "DEBUG:tensorflow:z: (4, 15, 20)\n",
            "DEBUG:tensorflow:Shape input: (4, 15, 25)\n",
            "DEBUG:tensorflow:Shapes, query: (4, 15, 20), WQ: (25, 20), key: (4, 15, 20), WK: (25, 20), value: [[[ 0.03886306 -0.03873609  0.06741787 ...  0.00549578 -0.00884912\n",
            "   -0.05960912]\n",
            "  [-0.01195797  0.00670067  0.00833403 ...  0.00688131  0.05378289\n",
            "    0.05536136]\n",
            "  [ 0.07347479 -0.04087375  0.04258795 ... -0.02214622  0.02408915\n",
            "    0.0291281 ]\n",
            "  ...\n",
            "  [ 0.05440431 -0.01152681  0.0392617  ... -0.00096787  0.03035775\n",
            "    0.00432558]\n",
            "  [ 0.05440431 -0.01152681  0.0392617  ... -0.00096787  0.03035775\n",
            "    0.00432558]\n",
            "  [-0.00760885 -0.02891158 -0.04665331 ... -0.00727477 -0.01951075\n",
            "    0.00490628]]\n",
            "\n",
            " [[-0.01195797  0.00670067  0.00833403 ...  0.00688131  0.05378289\n",
            "    0.05536136]\n",
            "  [ 0.03886306 -0.03873609  0.06741787 ...  0.00549578 -0.00884912\n",
            "   -0.05960912]\n",
            "  [ 0.05440431 -0.01152681  0.0392617  ... -0.00096787  0.03035775\n",
            "    0.00432558]\n",
            "  ...\n",
            "  [ 0.01628711 -0.00585845  0.03084586 ... -0.01614227  0.04336925\n",
            "   -0.00268441]\n",
            "  [ 0.01628711 -0.00585845  0.03084586 ... -0.01614227  0.04336925\n",
            "   -0.00268441]\n",
            "  [-0.00760885 -0.02891158 -0.04665331 ... -0.00727477 -0.01951075\n",
            "    0.00490628]]\n",
            "\n",
            " [[ 0.03886306 -0.03873609  0.06741787 ...  0.00549578 -0.00884912\n",
            "   -0.05960912]\n",
            "  [ 0.02871681  0.00143843 -0.01173637 ...  0.03038496  0.01635903\n",
            "    0.00637497]\n",
            "  [ 0.05440431 -0.01152681  0.0392617  ... -0.00096787  0.03035775\n",
            "    0.00432558]\n",
            "  ...\n",
            "  [-0.00598645  0.01284552  0.02064213 ...  0.0259887   0.01090949\n",
            "   -0.03727638]\n",
            "  [ 0.01607569  0.0249585  -0.0335687  ... -0.03374164 -0.01134611\n",
            "    0.04183199]\n",
            "  [-0.01195797  0.00670067  0.00833403 ...  0.00688131  0.05378289\n",
            "    0.05536136]]\n",
            "\n",
            " [[ 0.01607569  0.0249585  -0.0335687  ... -0.03374164 -0.01134611\n",
            "    0.04183199]\n",
            "  [ 0.07347479 -0.04087375  0.04258795 ... -0.02214622  0.02408915\n",
            "    0.0291281 ]\n",
            "  [ 0.07347479 -0.04087375  0.04258795 ... -0.02214622  0.02408915\n",
            "    0.0291281 ]\n",
            "  ...\n",
            "  [ 0.02871681  0.00143843 -0.01173637 ...  0.03038496  0.01635903\n",
            "    0.00637497]\n",
            "  [ 0.02871681  0.00143843 -0.01173637 ...  0.03038496  0.01635903\n",
            "    0.00637497]\n",
            "  [ 0.07347479 -0.04087375  0.04258795 ... -0.02214622  0.02408915\n",
            "    0.0291281 ]]], WV: (25, 20)\n",
            "DEBUG:tensorflow:Transposed key shape: (4, 20, 15)\n",
            "DEBUG:tensorflow:score shape: (4, 15, 15)\n",
            "DEBUG:tensorflow:score divided by 8: (4, 15, 15)\n",
            "DEBUG:tensorflow:softmax: (4, 15, 15)\n",
            "DEBUG:tensorflow:z: (4, 15, 20)\n",
            "DEBUG:tensorflow:Shape input: (4, 15, 25)\n",
            "DEBUG:tensorflow:Shapes, query: (4, 15, 20), WQ: (25, 20), key: (4, 15, 20), WK: (25, 20), value: [[[-0.03013912  0.00314655 -0.04002451 ...  0.05322459 -0.01542226\n",
            "    0.04143312]\n",
            "  [-0.03792787 -0.01253556 -0.02836048 ...  0.00233556  0.04995595\n",
            "    0.01299509]\n",
            "  [ 0.07068699 -0.01458304 -0.01311107 ...  0.020615   -0.00523451\n",
            "   -0.00295192]\n",
            "  ...\n",
            "  [-0.03805451 -0.01619076 -0.0223042  ...  0.01958741 -0.02820033\n",
            "    0.04758821]\n",
            "  [-0.03805451 -0.01619076 -0.0223042  ...  0.01958741 -0.02820033\n",
            "    0.04758821]\n",
            "  [-0.03357074 -0.00016165  0.05292744 ... -0.05049409 -0.02804723\n",
            "   -0.04653514]]\n",
            "\n",
            " [[-0.03792787 -0.01253556 -0.02836048 ...  0.00233556  0.04995595\n",
            "    0.01299509]\n",
            "  [-0.03013912  0.00314655 -0.04002451 ...  0.05322459 -0.01542226\n",
            "    0.04143312]\n",
            "  [-0.03805451 -0.01619076 -0.0223042  ...  0.01958741 -0.02820033\n",
            "    0.04758821]\n",
            "  ...\n",
            "  [ 0.04768832 -0.00377346  0.0016005  ... -0.0092132  -0.00242666\n",
            "    0.02059796]\n",
            "  [ 0.04768832 -0.00377346  0.0016005  ... -0.0092132  -0.00242666\n",
            "    0.02059796]\n",
            "  [-0.03357074 -0.00016165  0.05292744 ... -0.05049409 -0.02804723\n",
            "   -0.04653514]]\n",
            "\n",
            " [[-0.03013912  0.00314655 -0.04002451 ...  0.05322459 -0.01542226\n",
            "    0.04143312]\n",
            "  [-0.05989432  0.05415498  0.02429168 ... -0.03702618 -0.06604207\n",
            "   -0.01766778]\n",
            "  [-0.03805451 -0.01619076 -0.0223042  ...  0.01958741 -0.02820033\n",
            "    0.04758821]\n",
            "  ...\n",
            "  [ 0.01546927 -0.09936246  0.03115471 ...  0.03312666 -0.00354066\n",
            "    0.00931338]\n",
            "  [-0.0712092   0.02392843  0.0449927  ...  0.01325696 -0.05978679\n",
            "   -0.00036559]\n",
            "  [-0.03792787 -0.01253556 -0.02836048 ...  0.00233556  0.04995595\n",
            "    0.01299509]]\n",
            "\n",
            " [[-0.0712092   0.02392843  0.0449927  ...  0.01325696 -0.05978679\n",
            "   -0.00036559]\n",
            "  [ 0.07068699 -0.01458304 -0.01311107 ...  0.020615   -0.00523451\n",
            "   -0.00295192]\n",
            "  [ 0.07068699 -0.01458304 -0.01311107 ...  0.020615   -0.00523451\n",
            "   -0.00295192]\n",
            "  ...\n",
            "  [-0.05989432  0.05415498  0.02429168 ... -0.03702618 -0.06604207\n",
            "   -0.01766778]\n",
            "  [-0.05989432  0.05415498  0.02429168 ... -0.03702618 -0.06604207\n",
            "   -0.01766778]\n",
            "  [ 0.07068699 -0.01458304 -0.01311107 ...  0.020615   -0.00523451\n",
            "   -0.00295192]]], WV: (25, 20)\n",
            "DEBUG:tensorflow:Transposed key shape: (4, 20, 15)\n",
            "DEBUG:tensorflow:score shape: (4, 15, 15)\n",
            "DEBUG:tensorflow:score divided by 8: (4, 15, 15)\n",
            "DEBUG:tensorflow:softmax: (4, 15, 15)\n",
            "DEBUG:tensorflow:z: (4, 15, 20)\n",
            "DEBUG:tensorflow:Shape input: (4, 15, 25)\n",
            "DEBUG:tensorflow:Shapes, query: (4, 15, 20), WQ: (25, 20), key: (4, 15, 20), WK: (25, 20), value: [[[ 0.00295344 -0.01749351  0.00183296 ...  0.01400685 -0.00988928\n",
            "   -0.01126307]\n",
            "  [ 0.0342982   0.0491105  -0.03426103 ...  0.01062018 -0.01685632\n",
            "    0.0240867 ]\n",
            "  [ 0.01818008 -0.02269309 -0.05470764 ...  0.00457283  0.0132119\n",
            "   -0.0001501 ]\n",
            "  ...\n",
            "  [ 0.00196192 -0.02954876 -0.02851937 ... -0.02250461 -0.03007157\n",
            "    0.01719284]\n",
            "  [ 0.00196192 -0.02954876 -0.02851937 ... -0.02250461 -0.03007157\n",
            "    0.01719284]\n",
            "  [ 0.04370465 -0.01853437  0.05083279 ... -0.0224508   0.05243571\n",
            "   -0.01934513]]\n",
            "\n",
            " [[ 0.0342982   0.0491105  -0.03426103 ...  0.01062018 -0.01685632\n",
            "    0.0240867 ]\n",
            "  [ 0.00295344 -0.01749351  0.00183296 ...  0.01400685 -0.00988928\n",
            "   -0.01126307]\n",
            "  [ 0.00196192 -0.02954876 -0.02851937 ... -0.02250461 -0.03007157\n",
            "    0.01719284]\n",
            "  ...\n",
            "  [-0.00886561  0.00123706 -0.04061016 ... -0.00413154 -0.03513729\n",
            "    0.02039813]\n",
            "  [-0.00886561  0.00123706 -0.04061016 ... -0.00413154 -0.03513729\n",
            "    0.02039813]\n",
            "  [ 0.04370465 -0.01853437  0.05083279 ... -0.0224508   0.05243571\n",
            "   -0.01934513]]\n",
            "\n",
            " [[ 0.00295344 -0.01749351  0.00183296 ...  0.01400685 -0.00988928\n",
            "   -0.01126307]\n",
            "  [ 0.04779011 -0.03264554  0.04712168 ... -0.05209979 -0.01400738\n",
            "    0.02982404]\n",
            "  [ 0.00196192 -0.02954876 -0.02851937 ... -0.02250461 -0.03007157\n",
            "    0.01719284]\n",
            "  ...\n",
            "  [-0.00652658 -0.07633495 -0.02881468 ... -0.0153099   0.03228989\n",
            "    0.01679773]\n",
            "  [ 0.02994519  0.01649705  0.05709845 ... -0.01031526  0.00672086\n",
            "    0.0167687 ]\n",
            "  [ 0.0342982   0.0491105  -0.03426103 ...  0.01062018 -0.01685632\n",
            "    0.0240867 ]]\n",
            "\n",
            " [[ 0.02994519  0.01649705  0.05709845 ... -0.01031526  0.00672086\n",
            "    0.0167687 ]\n",
            "  [ 0.01818008 -0.02269309 -0.05470764 ...  0.00457283  0.0132119\n",
            "   -0.0001501 ]\n",
            "  [ 0.01818008 -0.02269309 -0.05470764 ...  0.00457283  0.0132119\n",
            "   -0.0001501 ]\n",
            "  ...\n",
            "  [ 0.04779011 -0.03264554  0.04712168 ... -0.05209979 -0.01400738\n",
            "    0.02982404]\n",
            "  [ 0.04779011 -0.03264554  0.04712168 ... -0.05209979 -0.01400738\n",
            "    0.02982404]\n",
            "  [ 0.01818008 -0.02269309 -0.05470764 ...  0.00457283  0.0132119\n",
            "   -0.0001501 ]]], WV: (25, 20)\n",
            "DEBUG:tensorflow:Transposed key shape: (4, 20, 15)\n",
            "DEBUG:tensorflow:score shape: (4, 15, 15)\n",
            "DEBUG:tensorflow:score divided by 8: (4, 15, 15)\n",
            "DEBUG:tensorflow:softmax: (4, 15, 15)\n",
            "DEBUG:tensorflow:z: (4, 15, 20)\n",
            "DEBUG:tensorflow:Shape input: (4, 15, 25)\n",
            "DEBUG:tensorflow:Shapes, query: (4, 15, 20), WQ: (25, 20), key: (4, 15, 20), WK: (25, 20), value: [[[-0.00040142  0.00581564 -0.02329122 ... -0.00805015 -0.02049162\n",
            "   -0.04098788]\n",
            "  [-0.02125568  0.04158365 -0.04822487 ...  0.02091344 -0.00263989\n",
            "    0.04977972]\n",
            "  [-0.01294321 -0.0407727   0.0380201  ... -0.0358141  -0.01718783\n",
            "    0.03788196]\n",
            "  ...\n",
            "  [-0.03296501 -0.01757644 -0.02278072 ... -0.06330559 -0.0049119\n",
            "   -0.07238986]\n",
            "  [-0.03296501 -0.01757644 -0.02278072 ... -0.06330559 -0.0049119\n",
            "   -0.07238986]\n",
            "  [ 0.00723749 -0.04273267 -0.01278984 ...  0.04647033  0.00373921\n",
            "    0.04394647]]\n",
            "\n",
            " [[-0.02125568  0.04158365 -0.04822487 ...  0.02091344 -0.00263989\n",
            "    0.04977972]\n",
            "  [-0.00040142  0.00581564 -0.02329122 ... -0.00805015 -0.02049162\n",
            "   -0.04098788]\n",
            "  [-0.03296501 -0.01757644 -0.02278072 ... -0.06330559 -0.0049119\n",
            "   -0.07238986]\n",
            "  ...\n",
            "  [-0.03518904  0.00437156 -0.02879406 ... -0.02841179 -0.03440726\n",
            "    0.02727924]\n",
            "  [-0.03518904  0.00437156 -0.02879406 ... -0.02841179 -0.03440726\n",
            "    0.02727924]\n",
            "  [ 0.00723749 -0.04273267 -0.01278984 ...  0.04647033  0.00373921\n",
            "    0.04394647]]\n",
            "\n",
            " [[-0.00040142  0.00581564 -0.02329122 ... -0.00805015 -0.02049162\n",
            "   -0.04098788]\n",
            "  [ 0.01307065 -0.01601123  0.02906161 ... -0.01740434 -0.01303746\n",
            "   -0.07439265]\n",
            "  [-0.03296501 -0.01757644 -0.02278072 ... -0.06330559 -0.0049119\n",
            "   -0.07238986]\n",
            "  ...\n",
            "  [-0.03926717  0.02631159 -0.04033524 ...  0.03628121  0.04282831\n",
            "    0.0388312 ]\n",
            "  [-0.01736948 -0.0036988   0.0143581  ... -0.00893236  0.04898929\n",
            "   -0.02876801]\n",
            "  [-0.02125568  0.04158365 -0.04822487 ...  0.02091344 -0.00263989\n",
            "    0.04977972]]\n",
            "\n",
            " [[-0.01736948 -0.0036988   0.0143581  ... -0.00893236  0.04898929\n",
            "   -0.02876801]\n",
            "  [-0.01294321 -0.0407727   0.0380201  ... -0.0358141  -0.01718783\n",
            "    0.03788196]\n",
            "  [-0.01294321 -0.0407727   0.0380201  ... -0.0358141  -0.01718783\n",
            "    0.03788196]\n",
            "  ...\n",
            "  [ 0.01307065 -0.01601123  0.02906161 ... -0.01740434 -0.01303746\n",
            "   -0.07439265]\n",
            "  [ 0.01307065 -0.01601123  0.02906161 ... -0.01740434 -0.01303746\n",
            "   -0.07439265]\n",
            "  [-0.01294321 -0.0407727   0.0380201  ... -0.0358141  -0.01718783\n",
            "    0.03788196]]], WV: (25, 20)\n",
            "DEBUG:tensorflow:Transposed key shape: (4, 20, 15)\n",
            "DEBUG:tensorflow:score shape: (4, 15, 15)\n",
            "DEBUG:tensorflow:score divided by 8: (4, 15, 15)\n",
            "DEBUG:tensorflow:softmax: (4, 15, 15)\n",
            "DEBUG:tensorflow:z: (4, 15, 20)\n",
            "DEBUG:tensorflow:Concatenated Z shape: (4, 15, 160)\n",
            "DEBUG:tensorflow:Layer output shape: (4, 15, 20)\n"
          ],
          "name": "stdout"
        }
      ]
    },
    {
      "metadata": {
        "id": "VEzCg9G_E0WI",
        "colab_type": "code",
        "colab": {}
      },
      "cell_type": "code",
      "source": [
        ""
      ],
      "execution_count": 0,
      "outputs": []
    },
    {
      "metadata": {
        "id": "Rx9wWX_oE0WP",
        "colab_type": "code",
        "colab": {}
      },
      "cell_type": "code",
      "source": [
        ""
      ],
      "execution_count": 0,
      "outputs": []
    }
  ]
}